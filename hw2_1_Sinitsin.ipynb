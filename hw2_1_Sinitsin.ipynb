{
 "cells": [
  {
   "cell_type": "markdown",
   "metadata": {},
   "source": [
    "# Синицин Дмитрий\n",
    "## БКЛ181\n",
    "## Домашнее задание №2.1"
   ]
  },
  {
   "cell_type": "markdown",
   "metadata": {},
   "source": [
    "### Устанавливаем все необходимые пакеты:"
   ]
  },
  {
   "cell_type": "code",
   "execution_count": 20,
   "metadata": {},
   "outputs": [
    {
     "name": "stdout",
     "output_type": "stream",
     "text": [
      "Requirement already satisfied: pycodestyle in c:\\programdata\\anaconda3\\lib\\site-packages (2.5.0)\n",
      "Requirement already satisfied: flake8 in c:\\programdata\\anaconda3\\lib\\site-packages (3.7.8)\n",
      "Requirement already satisfied: pycodestyle_magic in c:\\programdata\\anaconda3\\lib\\site-packages (0.4)\n",
      "Requirement already satisfied: mccabe<0.7.0,>=0.6.0 in c:\\programdata\\anaconda3\\lib\\site-packages (from flake8) (0.6.1)\n",
      "Requirement already satisfied: pyflakes<2.2.0,>=2.1.0 in c:\\programdata\\anaconda3\\lib\\site-packages (from flake8) (2.1.1)\n",
      "Requirement already satisfied: entrypoints<0.4.0,>=0.3.0 in c:\\programdata\\anaconda3\\lib\\site-packages (from flake8) (0.3)\n"
     ]
    }
   ],
   "source": [
    "!pip install pycodestyle flake8 pycodestyle_magic\n",
    "%load_ext pycodestyle_magic\n",
    "%pycodestyle_on"
   ]
  },
  {
   "cell_type": "code",
   "execution_count": 2,
   "metadata": {},
   "outputs": [
    {
     "name": "stdout",
     "output_type": "stream",
     "text": [
      "Requirement already satisfied: pymystem3 in c:\\programdata\\anaconda3\\lib\\site-packages (0.2.0)\n",
      "Requirement already satisfied: requests in c:\\programdata\\anaconda3\\lib\\site-packages (from pymystem3) (2.22.0)\n",
      "Requirement already satisfied: idna<2.9,>=2.5 in c:\\programdata\\anaconda3\\lib\\site-packages (from requests->pymystem3) (2.8)\n",
      "Requirement already satisfied: chardet<3.1.0,>=3.0.2 in c:\\programdata\\anaconda3\\lib\\site-packages (from requests->pymystem3) (3.0.4)\n",
      "Requirement already satisfied: urllib3!=1.25.0,!=1.25.1,<1.26,>=1.21.1 in c:\\programdata\\anaconda3\\lib\\site-packages (from requests->pymystem3) (1.24.2)\n",
      "Requirement already satisfied: certifi>=2017.4.17 in c:\\programdata\\anaconda3\\lib\\site-packages (from requests->pymystem3) (2019.6.16)\n",
      "Requirement already satisfied: nltk in c:\\programdata\\anaconda3\\lib\\site-packages (3.4.4)\n",
      "Requirement already satisfied: six in c:\\programdata\\anaconda3\\lib\\site-packages (from nltk) (1.12.0)\n",
      "Requirement already satisfied: pymorphy2 in c:\\programdata\\anaconda3\\lib\\site-packages (0.8)\n",
      "Requirement already satisfied: dawg-python>=0.7 in c:\\programdata\\anaconda3\\lib\\site-packages (from pymorphy2) (0.7.2)\n",
      "Requirement already satisfied: docopt>=0.6 in c:\\programdata\\anaconda3\\lib\\site-packages (from pymorphy2) (0.6.2)\n",
      "Requirement already satisfied: pymorphy2-dicts<3.0,>=2.4 in c:\\programdata\\anaconda3\\lib\\site-packages (from pymorphy2) (2.4.393442.3710985)\n"
     ]
    }
   ],
   "source": [
    "!pip install pymystem3\n",
    "\n",
    "!pip install nltk\n",
    "\n",
    "!pip install pymorphy2"
   ]
  },
  {
   "cell_type": "markdown",
   "metadata": {},
   "source": [
    "### Устанавливаем все необходимые модули:"
   ]
  },
  {
   "cell_type": "code",
   "execution_count": 3,
   "metadata": {},
   "outputs": [],
   "source": [
    "from pymystem3 import Mystem\n",
    "import json\n",
    "from nltk.tokenize import word_tokenize\n",
    "from pymorphy2 import MorphAnalyzer\n",
    "import nltk\n",
    "import collections"
   ]
  },
  {
   "cell_type": "markdown",
   "metadata": {},
   "source": [
    "## Задание №1\n",
    "### Скачиваем текст и преобразуем его в строку для дальнейшего анализа:"
   ]
  },
  {
   "cell_type": "code",
   "execution_count": 4,
   "metadata": {},
   "outputs": [],
   "source": [
    "text = open('nabokov.txt', 'r', encoding='utf-8')\n",
    "text_str = text.read()"
   ]
  },
  {
   "cell_type": "markdown",
   "metadata": {},
   "source": [
    "## Задание №2\n",
    "### Делаем анализ текста, замеряем время работы и соханяем анализ в файле формата json:"
   ]
  },
  {
   "cell_type": "code",
   "execution_count": 5,
   "metadata": {},
   "outputs": [
    {
     "name": "stdout",
     "output_type": "stream",
     "text": [
      "Wall time: 10min 32s\n"
     ]
    }
   ],
   "source": [
    "%%time\n",
    "m = Mystem()\n",
    "analis = m.analyze(text_str)\n",
    "with open('analis_json','w',encoding='utf-8') as f:\n",
    "    json.dump(analis, f, ensure_ascii=False)"
   ]
  },
  {
   "cell_type": "markdown",
   "metadata": {},
   "source": [
    "## Задание №3\n",
    "### Создаем массив, в который сгружаем токенезированный текст, и \"чистим\" его от заглавных букв, а заодно уберем и знаки препинания:"
   ]
  },
  {
   "cell_type": "code",
   "execution_count": 6,
   "metadata": {},
   "outputs": [
    {
     "name": "stdout",
     "output_type": "stream",
     "text": [
      "Wall time: 12.5 s\n"
     ]
    }
   ],
   "source": [
    "%%time\n",
    "mass = []\n",
    "morph = MorphAnalyzer()\n",
    "tokenized = word_tokenize(text_str)\n",
    "tokenized_cleaned = [w.lower() for w in tokenized if w.isalpha()]\n",
    "for i in tokenized_cleaned:\n",
    "    ana = morph.parse(i)\n",
    "    mass.append(ana) "
   ]
  },
  {
   "cell_type": "markdown",
   "metadata": {},
   "source": [
    "### Создаем массив, в котором будем хранить леммы и части речи, и загружаем их туда:"
   ]
  },
  {
   "cell_type": "code",
   "execution_count": 7,
   "metadata": {},
   "outputs": [],
   "source": [
    "lemmas = []\n",
    "for i in mass:\n",
    "    first = i[0]\n",
    "    form = [first.normal_form, first.tag.POS]\n",
    "    lemmas.append(form)"
   ]
  },
  {
   "cell_type": "markdown",
   "metadata": {},
   "source": [
    "### Cохраняем получившийся массив в файле формата json:"
   ]
  },
  {
   "cell_type": "code",
   "execution_count": 8,
   "metadata": {},
   "outputs": [],
   "source": [
    "with open('pymorphy_json', 'w', encoding='utf-8') as f:\n",
    "    json.dump(lemmas, f, ensure_ascii=False)"
   ]
  },
  {
   "cell_type": "markdown",
   "metadata": {},
   "source": [
    "## Задание №4\n",
    "### Проверяем, какие части речи присутствуют в тексте, считаем их. В результат выводим процент всех частей речи от общего количества слов:"
   ]
  },
  {
   "cell_type": "code",
   "execution_count": 9,
   "metadata": {},
   "outputs": [
    {
     "name": "stdout",
     "output_type": "stream",
     "text": [
      "NOUN 0.273\n",
      "ADJF 0.141\n",
      "ADJS 0.01\n",
      "CONJ 0.101\n",
      "ADVB 0.068\n",
      "PREP 0.114\n",
      "VERB 0.105\n",
      "NPRO 0.066\n",
      "PRCL 0.045\n",
      "NUMR 0.005\n",
      "PRTF 0.021\n",
      "PRTS 0.002\n",
      "INFN 0.018\n",
      "GRND 0.016\n",
      "COMP 0.003\n",
      "None 0.008\n",
      "PRED 0.003\n",
      "INTJ 0.002\n"
     ]
    }
   ],
   "source": [
    "forms_counter = collections.Counter()\n",
    "n = 0\n",
    "for i in lemmas:\n",
    "    n = n + 1\n",
    "    form = i[1]\n",
    "    forms_counter[form] += 1\n",
    "for form in forms_counter:\n",
    "    print(form, round(forms_counter[form]/n, 3))"
   ]
  },
  {
   "cell_type": "markdown",
   "metadata": {},
   "source": [
    "### Теперь считаем глаголы и выводим Топ-20 глаголов:"
   ]
  },
  {
   "cell_type": "code",
   "execution_count": 10,
   "metadata": {},
   "outputs": [
    {
     "name": "stdout",
     "output_type": "stream",
     "text": [
      "Топ-20 самых частотных глаголов:\n",
      "быть 208\n",
      "мочь 45\n",
      "знать 29\n",
      "сказать 25\n",
      "идти 19\n",
      "говорить 19\n",
      "бывать 17\n",
      "читать 14\n",
      "сидеть 12\n",
      "думать 11\n",
      "видеть 11\n",
      "заметить 10\n",
      "начать 10\n",
      "стать 10\n",
      "выйти 10\n",
      "жить 10\n",
      "увидеть 9\n",
      "стоить 9\n",
      "хотеть 9\n",
      "писать 9\n"
     ]
    }
   ],
   "source": [
    "verb_count = collections.Counter()\n",
    "for i in lemmas:\n",
    "    if i[1] == 'VERB':\n",
    "        verb_count[i[0]] += 1\n",
    "top_verb = verb_count.most_common(20)\n",
    "print('Топ-20 самых частотных глаголов:')\n",
    "for i in top_verb:\n",
    "    print(i[0], i[1])"
   ]
  },
  {
   "cell_type": "markdown",
   "metadata": {},
   "source": [
    "### Делаем тоже самое для причастий:"
   ]
  },
  {
   "cell_type": "code",
   "execution_count": 11,
   "metadata": {},
   "outputs": [
    {
     "name": "stdout",
     "output_type": "stream",
     "text": [
      "Топ-20 самых частотных причастий:\n",
      "уже 54\n",
      "где 45\n",
      "там 32\n",
      "вдруг 29\n",
      "теперь 26\n",
      "тут 23\n",
      "очень 21\n",
      "опять 21\n",
      "совершенно 20\n",
      "едва 18\n",
      "потом 17\n",
      "совсем 17\n",
      "потому 16\n",
      "уж 16\n",
      "долго 15\n",
      "тогда 13\n",
      "наконец 13\n",
      "всегда 13\n",
      "несколько 12\n",
      "сейчас 12\n"
     ]
    }
   ],
   "source": [
    "adv_count = collections.Counter()\n",
    "for i in lemmas:\n",
    "    if i[1] == 'ADVB':\n",
    "        adv_count[i[0]] += 1\n",
    "top_adv = adv_count.most_common(20)\n",
    "print('Топ-20 самых частотных причастий:')\n",
    "for i in top_adv:\n",
    "    print(i[0], i[1])"
   ]
  },
  {
   "cell_type": "markdown",
   "metadata": {},
   "source": [
    "### И делаем тоже самое для существительных потому что никто не знает когда это может понадобится "
   ]
  },
  {
   "cell_type": "code",
   "execution_count": 12,
   "metadata": {},
   "outputs": [
    {
     "name": "stdout",
     "output_type": "stream",
     "text": [
      "Топ-20 самых частотных существительных:\n",
      "константин 52\n",
      "стих 45\n",
      "фёдор 36\n",
      "рука 35\n",
      "год 33\n",
      "комната 33\n",
      "яков 32\n",
      "лицо 28\n",
      "александр 28\n",
      "нога 27\n",
      "глаз 27\n",
      "угол 26\n",
      "яша 26\n",
      "васильев 25\n",
      "улица 24\n",
      "раз 24\n",
      "слово 24\n",
      "время 24\n",
      "день 23\n",
      "человек 23\n"
     ]
    }
   ],
   "source": [
    "noun_count = collections.Counter()\n",
    "for i in lemmas:\n",
    "    if i[1] == 'NOUN':\n",
    "        noun_count[i[0]] += 1\n",
    "top_noun = noun_count.most_common(20)\n",
    "print('Топ-20 самых частотных существительных:')\n",
    "for i in top_noun:\n",
    "    print(i[0], i[1])"
   ]
  },
  {
   "cell_type": "markdown",
   "metadata": {},
   "source": [
    "## Задание №5\n",
    "### Создаем массив. С помощью Counter считаем биграммы и триграммы. Из них сохраняем первые 25 штук:"
   ]
  },
  {
   "cell_type": "code",
   "execution_count": 13,
   "metadata": {},
   "outputs": [],
   "source": [
    "mass = []\n",
    "for i in lemmas:\n",
    "    mass.append(i[0])\n",
    "bigrams = nltk.bigrams(mass)\n",
    "trigrams = nltk.trigrams(mass)\n",
    "bigrams_count = collections.Counter(bigrams).most_common(25)\n",
    "trigrams_count = collections.Counter(trigrams).most_common(25)"
   ]
  },
  {
   "cell_type": "markdown",
   "metadata": {},
   "source": [
    "### Печатаем самые частотные биграммы:"
   ]
  },
  {
   "cell_type": "code",
   "execution_count": 14,
   "metadata": {},
   "outputs": [
    {
     "name": "stdout",
     "output_type": "stream",
     "text": [
      "Топ-25 биграмм:\n",
      "('фёдор', 'константин')\n",
      "('александр', 'яков')\n",
      "('так', 'что')\n",
      "('я', 'не')\n",
      "('и', 'в')\n",
      "('это', 'быть')\n",
      "('он', 'в')\n",
      "('и', 'он')\n",
      "('не', 'знать')\n",
      "('не', 'мочь')\n",
      "('и', 'не')\n",
      "('у', 'он')\n",
      "('он', 'не')\n",
      "('и', 'с')\n",
      "('федора', 'константин')\n",
      "('он', 'быть')\n",
      "('мочь', 'быть')\n",
      "('что', 'я')\n",
      "('к', 'он')\n",
      "('что', 'он')\n",
      "('который', 'я')\n",
      "('который', 'он')\n",
      "('не', 'быть')\n",
      "('что', 'в')\n",
      "('как', 'в')\n"
     ]
    }
   ],
   "source": [
    "print('Топ-25 биграмм:')\n",
    "for i in bigrams_count:\n",
    "    print(i[0])"
   ]
  },
  {
   "cell_type": "markdown",
   "metadata": {},
   "source": [
    "### Печатаем самые частотные триграммы:"
   ]
  },
  {
   "cell_type": "code",
   "execution_count": 15,
   "metadata": {},
   "outputs": [
    {
     "name": "stdout",
     "output_type": "stream",
     "text": [
      "Топ-25 триграмм:\n",
      "('до', 'сей', 'пора')\n",
      "('едва', 'ли', 'не')\n",
      "('мы', 'с', 'таня')\n",
      "('между', 'тем', 'как')\n",
      "('тот', 'место', 'где')\n",
      "('сам', 'по', 'себя')\n",
      "('я', 'не', 'знать')\n",
      "('благодарить', 'ты', 'отчизна')\n",
      "('о', 'тот', 'как')\n",
      "('в', 'который', 'он')\n",
      "('потому', 'ли', 'что')\n",
      "('в', 'конец', 'конец')\n",
      "('один', 'из', 'тот')\n",
      "('год', 'тот', 'назад')\n",
      "('там', 'и', 'сям')\n",
      "('что', 'я', 'не')\n",
      "('по', 'сравнение', 'с')\n",
      "('я', 'не', 'мочь')\n",
      "('он', 'идти', 'по')\n",
      "('а', 'потому', 'что')\n",
      "('ни', 'в', 'чем')\n",
      "('в', 'тот', 'год')\n",
      "('подумать', 'фёдор', 'константин')\n",
      "('и', 'на', 'мгновение')\n",
      "('ты', 'отчизна', 'за')\n"
     ]
    }
   ],
   "source": [
    "print('Топ-25 триграмм:')\n",
    "for i in trigrams_count:\n",
    "    print(i[0])"
   ]
  },
  {
   "cell_type": "markdown",
   "metadata": {},
   "source": [
    "## Домашнее задание №2.2\n",
    "#### Я сделал второе задание из дз 2.2 в этом файле так как тут все необходимые данные, а дз 2.1 я еще не сдавал, остальная часть будет в отдельном файле"
   ]
  },
  {
   "cell_type": "code",
   "execution_count": 16,
   "metadata": {},
   "outputs": [],
   "source": [
    "import matplotlib.pyplot as plt"
   ]
  },
  {
   "cell_type": "code",
   "execution_count": 17,
   "metadata": {},
   "outputs": [
    {
     "data": {
      "image/png": "[encoded data removed]",
      "text/plain": [
       "<Figure size 432x288 with 1 Axes>"
      ]
     },
     "metadata": {
      "needs_background": "light"
     },
     "output_type": "display_data"
    }
   ],
   "source": [
    "Y = [i[0] for i in top_verb]\n",
    "X = [i[1] for i in top_verb]\n",
    "plt.bar(Y, X, color='tab:olive')\n",
    "plt.xticks(rotation='vertical')\n",
    "plt.title('Количество вхождений самых частотных глаголиков')\n",
    "plt.ylabel('Количество')\n",
    "plt.xlabel('глаголы')\n",
    "plt.show()"
   ]
  },
  {
   "cell_type": "code",
   "execution_count": 18,
   "metadata": {
    "scrolled": true
   },
   "outputs": [
    {
     "data": {
      "image/png": "[encoded data removed]",
      "text/plain": [
       "<Figure size 432x288 with 1 Axes>"
      ]
     },
     "metadata": {
      "needs_background": "light"
     },
     "output_type": "display_data"
    }
   ],
   "source": [
    "Y = [i[0] for i in top_adv]\n",
    "X = [i[1] for i in top_adv]\n",
    "plt.scatter(X, Y, color='purple', label='verbs') \n",
    "plt.title('Количество вхождений самых частотных наречий')\n",
    "plt.ylabel('Частотные наречия')\n",
    "plt.xlabel('Кол-во')\n",
    "plt.show()"
   ]
  },
  {
   "cell_type": "markdown",
   "metadata": {},
   "source": [
    "### уже, где и там довольно частотные наречия и в обыденной жизни. Если сравнить количество вхождений в НКРЯ именно этих слов со всеми остальными, то можно удивится. Тоже самое можно сказать и про глаголы, особенно глагол быть, он не только часто используется по прямому значению, но еще и состоит в аналитической форме образующей будущее время в русском языке \"буду играть на скрипке\" и тд"
   ]
  },
  {
   "cell_type": "code",
   "execution_count": 19,
   "metadata": {},
   "outputs": [
    {
     "data": {
      "image/png": "[encoded data removed]",
      "text/plain": [
       "<Figure size 576x576 with 1 Axes>"
      ]
     },
     "metadata": {},
     "output_type": "display_data"
    }
   ],
   "source": [
    "import matplotlib.pyplot as plt\n",
    "\n",
    "labels = [str(i) for i in forms_counter]\n",
    "size = list(forms_counter.values())\n",
    "colors = ['tab:blue', 'tab:orange', 'tab:green', 'tab:red', 'tab:purple', 'tab:brown',\n",
    "          'tab:pink', 'tab:gray', 'tab:olive', 'tab:cyan', '#FF00FF',\n",
    "          '#800000', '#00FF00', '#008080', '#000080', '#E6E6FA', '#7B68EE', '#00FA9A']\n",
    "plt.figure(figsize=(8, 8))\n",
    "plt.title('Cоотношения частей речи')\n",
    "plt.pie(size, colors=colors, startangle=180)\n",
    "plt.legend(labels, loc=\"best\")\n",
    "plt.show()"
   ]
  },
  {
   "cell_type": "markdown",
   "metadata": {},
   "source": [
    "### Обоснование: ну вообще логично предположить, что существительные составляют большую часть, так как именно они занимают больший объем почти что любого текста"
   ]
  },
  {
   "cell_type": "code",
   "execution_count": null,
   "metadata": {},
   "outputs": [],
   "source": []
  }
 ],
 "metadata": {
  "kernelspec": {
   "display_name": "Python 3",
   "language": "python",
   "name": "python3"
  },
  "language_info": {
   "codemirror_mode": {
    "name": "ipython",
    "version": 3
   },
   "file_extension": ".py",
   "mimetype": "text/x-python",
   "name": "python",
   "nbconvert_exporter": "python",
   "pygments_lexer": "ipython3",
   "version": "3.7.3"
  }
 },
 "nbformat": 4,
 "nbformat_minor": 2
}
